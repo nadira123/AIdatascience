{
 "cells": [
  {
   "cell_type": "code",
   "execution_count": 11,
   "metadata": {},
   "outputs": [
    {
     "name": "stdout",
     "output_type": "stream",
     "text": [
      "(90, 10)\n"
     ]
    }
   ],
   "source": [
    "\"\"\"Q1: Write a function calculation()such that it can accept two\n",
    "variables as arguments and calculate the addition and \n",
    "subtraction of it. And also it must return both addition and \n",
    "subtraction in a single return call\"\"\"\n",
    "\n",
    "\n",
    "def calculation(x,y):\n",
    "    add=x+y\n",
    "    sub=x-y\n",
    "    return add,sub\n",
    "\n",
    "res=calculation(50,40)\n",
    "print(res)\n"
   ]
  },
  {
   "cell_type": "code",
   "execution_count": 12,
   "metadata": {},
   "outputs": [
    {
     "name": "stdout",
     "output_type": "stream",
     "text": [
      "Employee Ben salary: 8000\n",
      "Employee Ben salary: 9000\n"
     ]
    }
   ],
   "source": [
    "\"\"\"Q2 : Create a function showEmployee()in such a way that it\n",
    "should accept employee name, and it’s salary and display both, \n",
    "and if the salary is missing in function call it should show it as \n",
    "9000\"\"\"\n",
    "\n",
    "\n",
    "def showEmployee(name, salary=9000):\n",
    "    print(\"Employee\", name, \"salary:\", salary)\n",
    "\n",
    "showEmployee(\"Ben\", 8000)\n",
    "showEmployee(\"Ben\")"
   ]
  },
  {
   "cell_type": "code",
   "execution_count": 8,
   "metadata": {},
   "outputs": [
    {
     "name": "stdout",
     "output_type": "stream",
     "text": [
      "{'b': 1, 'a': 3, 'n': 2}\n"
     ]
    }
   ],
   "source": [
    "\"\"\"Q3 : Write a function called multipleLetterCount. This function\n",
    "takes in one parameter (a string)and returns a dictionary with the \n",
    "keys being the letters and the value being the count of the letter.\n",
    "\"\"\"\n",
    "\n",
    "\n",
    "def multipleLetterCount(text):\n",
    "    dict={}\n",
    "    for i in text:\n",
    "        keys=dict.keys()\n",
    "        if i in keys:\n",
    "            dict[i]+=1\n",
    "        else:\n",
    "            dict[i]=1\n",
    "    return dict\n",
    "print(multipleLetterCount('banana'))\n"
   ]
  },
  {
   "cell_type": "code",
   "execution_count": null,
   "metadata": {},
   "outputs": [],
   "source": []
  }
 ],
 "metadata": {
  "kernelspec": {
   "display_name": "Python 3",
   "language": "python",
   "name": "python3"
  },
  "language_info": {
   "codemirror_mode": {
    "name": "ipython",
    "version": 3
   },
   "file_extension": ".py",
   "mimetype": "text/x-python",
   "name": "python",
   "nbconvert_exporter": "python",
   "pygments_lexer": "ipython3",
   "version": "3.8.3"
  }
 },
 "nbformat": 4,
 "nbformat_minor": 4
}
