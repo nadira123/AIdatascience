{
 "cells": [
  {
   "cell_type": "code",
   "execution_count": 7,
   "metadata": {},
   "outputs": [
    {
     "data": {
      "text/plain": [
       "(11, [222, 33], 44, 55)"
      ]
     },
     "execution_count": 7,
     "metadata": {},
     "output_type": "execute_result"
    }
   ],
   "source": [
    "#Q1: Modify the first item(22) of a list inside a following tuple to 222\n",
    "# tuple1=(11,[22,33],44,55)\n",
    "\n",
    "\n",
    "tuple1=(11,[22,33],44,55)\n",
    "tuple1[1][0]=222\n",
    "tuple1\n"
   ]
  },
  {
   "cell_type": "code",
   "execution_count": 14,
   "metadata": {},
   "outputs": [
    {
     "name": "stdout",
     "output_type": "stream",
     "text": [
      "number of occurence of 50 is 2\n"
     ]
    }
   ],
   "source": [
    "# Q2: Countthe number of occurrences of item 50 from a tuple\n",
    "# tuple2=(50,10,60,70,50)\n",
    "\n",
    "tuple2=(50,10,60,70,50)\n",
    "count=tuple2.count(50)\n",
    "print(\"number of occurence of 50 is\",count)"
   ]
  },
  {
   "cell_type": "code",
   "execution_count": 16,
   "metadata": {},
   "outputs": [
    {
     "name": "stdout",
     "output_type": "stream",
     "text": [
      "(12, 23, 34, 45)\n"
     ]
    }
   ],
   "source": [
    "# Q3: Write a Python program to convert a list to a tuple\n",
    "\n",
    "def convert(list): \n",
    "    return tuple(list) \n",
    "  \n",
    "list = [12, 23, 34, 45] \n",
    "print(convert(list)) "
   ]
  },
  {
   "cell_type": "code",
   "execution_count": 19,
   "metadata": {},
   "outputs": [
    {
     "data": {
      "text/plain": [
       "{10, 20, 30, 40, 50, 60, 70}"
      ]
     },
     "execution_count": 19,
     "metadata": {},
     "output_type": "execute_result"
    }
   ],
   "source": [
    "\"\"\"Q4: Returns a new set with all items from both sets by removing\n",
    "duplicates\n",
    "set1 = {10, 20, 30, 40, 50}\n",
    "set2 = {30, 40, 50, 60, 70}\"\"\"\n",
    "\n",
    "\n",
    "set1 = {10, 20, 30, 40, 50}\n",
    "set2 = {30, 40, 50, 60, 70}\n",
    "set3=set1.union(set2)\n",
    "set3\n",
    "\n",
    "\n"
   ]
  },
  {
   "cell_type": "code",
   "execution_count": 1,
   "metadata": {},
   "outputs": [
    {
     "name": "stdout",
     "output_type": "stream",
     "text": [
      "None\n",
      "{'Ten': 10, 'Twenty': 20, 'Thirty': 30, 'Fourty': 40, 'Fifty': 50}\n"
     ]
    }
   ],
   "source": [
    "\"\"\"Q5: Merge following two Python dictionaries into one\n",
    "dict1 = {'Ten': 10, 'Twenty': 20, 'Thirty': 30}\n",
    "dict2 = {'Thirty': 30, 'Fourty': 40, 'Fifty': 50}\"\"\"\n",
    "\n",
    "\n",
    "\n",
    "def merges(dict1,dict2):\n",
    "    return(dict1.update(dict2))\n",
    "\n",
    "dict1 = {'Ten': 10, 'Twenty': 20, 'Thirty': 30}\n",
    "dict2 = {'Thirty': 30, 'Fourty': 40, 'Fifty': 50}\n",
    "\n",
    "print(merges(dict1,dict2))\n",
    "print(dict1)"
   ]
  },
  {
   "cell_type": "code",
   "execution_count": 11,
   "metadata": {},
   "outputs": [
    {
     "name": "stdout",
     "output_type": "stream",
     "text": [
      "{'emp1': {'name': 'Jhon', 'salary': 7500}, 'emp2': {'name': 'Emma', 'salary': 8000}, 'emp3': {'name': 'Brad', 'salary': 6500}, 'salary': 8500}\n"
     ]
    }
   ],
   "source": [
    "\"\"\"Q6: Given a Python dictionary, Change Brad’s salary to 8500\n",
    "sampleDict = {\n",
    "'emp1': {'name': 'Jhon', 'salary': 7500},\n",
    "'emp2': {'name': 'Emma', 'salary': 8000},\n",
    "'emp3': {'name':'Brad', 'salary': 6500}\n",
    "}\"\"\"\n",
    "\n",
    "\n",
    "\n",
    "sampleDict = {'emp1': {'name': 'Jhon', 'salary': 7500},\n",
    "              'emp2': {'name': 'Emma', 'salary': 8000},\n",
    "              'emp3': {'name':'Brad', 'salary': 6500}}\n",
    "\n",
    "\n",
    "sampleDict.update(salary=8500)\n",
    "print(sampleDict)\n"
   ]
  },
  {
   "cell_type": "code",
   "execution_count": 7,
   "metadata": {},
   "outputs": [
    {
     "name": "stdout",
     "output_type": "stream",
     "text": [
      "{'name': 'Kelly', 'age': 25, 'salary': 8000, 'location': 'New york'}\n"
     ]
    }
   ],
   "source": [
    "\"\"\"Q7: Rename key city to location in the following dictionary\n",
    "sampleDict = {\n",
    "\"name\": \"Kelly\",\n",
    "\"age\":25,\n",
    "\"salary\": 8000,\n",
    "\"city\": \"New york\"\n",
    "}\"\"\"\n",
    "\n",
    "\n",
    "\n",
    "sampleDict = {\n",
    "\"name\": \"Kelly\",\n",
    "\"age\":25,\n",
    "\"salary\": 8000,\n",
    "\"city\": \"New york\"\n",
    "}\n",
    "new_key=\"location\"\n",
    "old_key=\"city\"\n",
    "\n",
    "sampleDict[new_key]=sampleDict.pop(old_key)\n",
    "print(sampleDict)"
   ]
  }
 ],
 "metadata": {
  "kernelspec": {
   "display_name": "Python 3",
   "language": "python",
   "name": "python3"
  },
  "language_info": {
   "codemirror_mode": {
    "name": "ipython",
    "version": 3
   },
   "file_extension": ".py",
   "mimetype": "text/x-python",
   "name": "python",
   "nbconvert_exporter": "python",
   "pygments_lexer": "ipython3",
   "version": "3.8.3"
  }
 },
 "nbformat": 4,
 "nbformat_minor": 4
}
