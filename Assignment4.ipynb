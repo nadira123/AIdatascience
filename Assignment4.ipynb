{
 "cells": [
  {
   "cell_type": "code",
   "execution_count": 21,
   "metadata": {},
   "outputs": [
    {
     "name": "stdout",
     "output_type": "stream",
     "text": [
      "[' it is a general purpose language \\n', ' code reusability is the key feature \\n', ' filea are the one of the function in python', 'Python is an interpreted language']\n"
     ]
    }
   ],
   "source": [
    "\"\"\"Q1: create a txt file, enter multiple lines of text. read this file line by line and store\n",
    "it into a list. Apply exception handling technique\"\"\"\n",
    "\n",
    "\n",
    "\n",
    "try:\n",
    "    wlist=[]\n",
    "    f = open('myfile.txt', 'w+')\n",
    "    f.write(\"Python is an interpreted language \\n it is a general purpose language \\n code reusability is the key feature \\n filea are the one of the function in python\")\n",
    "    f.seek(0)\n",
    "    \n",
    "    for i in f:\n",
    "        wlist=f.readlines()\n",
    "        wlist.append(i.strip())\n",
    "        print(wlist)\n",
    "    \n",
    "    f.close()\n",
    "   \n",
    "except IOError:\n",
    "    print('file not found')"
   ]
  },
  {
   "cell_type": "code",
   "execution_count": 4,
   "metadata": {},
   "outputs": [
    {
     "name": "stdout",
     "output_type": "stream",
     "text": [
      "['Red \\n', 'Green \\n', 'White \\n', 'Black \\n', 'Pink \\n', 'Yellow \\n']\n"
     ]
    }
   ],
   "source": [
    "\"\"\"Q2: Write a Python program to write below list content to a file. Apply exception\n",
    "handling technique\n",
    "color = ['Red', 'Green', 'White', 'Black', 'Pink', 'Yellow']\n",
    "\"\"\"\n",
    "def write_to_file(filename,list1):\n",
    "    try:\n",
    "        f11=open(filename,'w')\n",
    "        for item in list1:\n",
    "            str1=item+' \\n'\n",
    "            f11.write(str1)\n",
    "        f11.close()\n",
    "    except Exception as err1:\n",
    "        print(\"Error : \",err1)\n",
    "    \n",
    "\n",
    "color = ['Red', 'Green', 'White', 'Black', 'Pink', 'Yellow']\n",
    "\n",
    "a=write_to_file(\"samp.txt\",color)\n",
    "f22=open(\"samp.txt\")\n",
    "print(f22.readlines())"
   ]
  },
  {
   "cell_type": "code",
   "execution_count": 5,
   "metadata": {},
   "outputs": [
    {
     "name": "stdout",
     "output_type": "stream",
     "text": [
      "['This is line 1', 'This is line 2', 'This is line 3', 'This is line 4', 'This is line 5', 'This is line 6', 'This is line 7', 'This is line 8', 'This is line 9', 'This is line 10']\n"
     ]
    }
   ],
   "source": [
    "\"\"\"Q3 : create a txt file, enter multiple lines of text. remove newline characters from\n",
    "created file and print as a list. Apply exception handling techniques wherever\n",
    "possible\"\"\"\n",
    "\n",
    "\n",
    "\n",
    "f11= open(\"samp.txt\",\"w+\")\n",
    "for i in range(10):\n",
    "    strn=\"This is line \"+str(i+1)+'\\n'\n",
    "    f11.write(strn)\n",
    "f11.close()\n",
    "try:\n",
    "    f12=open('samp.txt','r')\n",
    "    list1=[]\n",
    "    for i in f12.readlines():\n",
    "        #print(i)\n",
    "        list1.append(i.strip())\n",
    "except Exception as err1:\n",
    "        print(\"Error : \",err1)\n",
    "\n",
    "print(list1)"
   ]
  },
  {
   "cell_type": "code",
   "execution_count": 9,
   "metadata": {},
   "outputs": [],
   "source": [
    "\"\"\"Q4 : create a testfile1.txt file, enter multiple lines of text . Now copy contents of\n",
    "testfile1.txt to new file testfile22.txt. Apply exception handling techniques\n",
    "wherever possible\"\"\"\n",
    "try:\n",
    "    file2=open('textfile2.txt','w')\n",
    "    file1=open('textfile1.txt','w+')\n",
    "    \n",
    "    file1.write(\"Python is an interpreted language \\n it is a general purpose language \\n code reusability is the key feature \\n filea are the one of the function in python\")\n",
    "    file1.seek(0)\n",
    "    \n",
    "    for line in file1:\n",
    "            file2.write(line)\n",
    "    file1.close()\n",
    "    file2.close()\n",
    "    \n",
    "\n",
    "except IOError:\n",
    "    print('file not found')\n",
    "\n"
   ]
  }
 ],
 "metadata": {
  "kernelspec": {
   "display_name": "Python 3",
   "language": "python",
   "name": "python3"
  },
  "language_info": {
   "codemirror_mode": {
    "name": "ipython",
    "version": 3
   },
   "file_extension": ".py",
   "mimetype": "text/x-python",
   "name": "python",
   "nbconvert_exporter": "python",
   "pygments_lexer": "ipython3",
   "version": "3.8.3"
  }
 },
 "nbformat": 4,
 "nbformat_minor": 4
}
