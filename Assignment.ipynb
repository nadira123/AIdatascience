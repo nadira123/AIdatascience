{
  "nbformat": 4,
  "nbformat_minor": 0,
  "metadata": {
    "colab": {
      "name": "Untitled1.ipynb",
      "provenance": [],
      "collapsed_sections": []
    },
    "kernelspec": {
      "name": "python3",
      "display_name": "Python 3"
    }
  },
  "cells": [
    {
      "cell_type": "code",
      "metadata": {
        "id": "-jAwMjAjf0Kv",
        "colab_type": "code",
        "colab": {
          "base_uri": "https://localhost:8080/",
          "height": 51
        },
        "outputId": "10d6f6bf-5c2d-4750-e513-16cb20ef7475"
      },
      "source": [
        "#Q1:Input a string of odd length(minimum 9 charecter),print a string made of the 3 middle charecters from input string\n",
        "    \n",
        "    \n",
        "strin=input(\"Enter a odd length string:\")\n",
        "strlen=int(len(strin))\n",
        "strtstr=(int(strlen/2))-1\n",
        "endstr=strtstr+3\n",
        "print(strin[strtstr:endstr])\n"
      ],
      "execution_count": 9,
      "outputs": [
        {
          "output_type": "stream",
          "text": [
            "Enter a odd length string:malayalam\n",
            "aya\n"
          ],
          "name": "stdout"
        }
      ]
    },
    {
      "cell_type": "code",
      "metadata": {
        "id": "im8eLn6XkKYP",
        "colab_type": "code",
        "colab": {
          "base_uri": "https://localhost:8080/",
          "height": 68
        },
        "outputId": "9a6b19cc-6ef7-4e06-cee8-edd3371d40cd"
      },
      "source": [
        "# Q2: Calculate the sum and average of first n natural numbers\n",
        "# a)Using for loop\n",
        "\n",
        "\n",
        "n=int(input(\"enter the number:\"))\n",
        "sum=0\n",
        "avg=0\n",
        "for i in range(0,n+1,1):\n",
        "    sum = sum+i\n",
        "average = sum / n\n",
        "print(\"Sum of first\",n,\"narural number is:\",sum)\n",
        "print(\"Average of first \", n, \"natural number is: \", average)"
      ],
      "execution_count": 10,
      "outputs": [
        {
          "output_type": "stream",
          "text": [
            "enter the number:20\n",
            "Sum of first 20 narural number is: 210\n",
            "Average of first  20 natural number is:  10.5\n"
          ],
          "name": "stdout"
        }
      ]
    },
    {
      "cell_type": "code",
      "metadata": {
        "id": "QsKXw6cmgrUM",
        "colab_type": "code",
        "colab": {
          "base_uri": "https://localhost:8080/",
          "height": 68
        },
        "outputId": "94be0a63-66bb-4791-e67b-300e24ed4aa8"
      },
      "source": [
        "# Q2:b)Using while loop\n",
        "\n",
        "n=int(input(\"enter the number:\"))\n",
        "total=n\n",
        "sum=0\n",
        "while (n >= 0):\n",
        "    sum += n\n",
        "    n-=1\n",
        "average  = sum / total\n",
        "print (\"sum using while loop: \", sum)\n",
        "\n",
        "print(\"Average using a while loop: \", average)"
      ],
      "execution_count": 2,
      "outputs": [
        {
          "output_type": "stream",
          "text": [
            "enter the number:20\n",
            "sum using while loop:  210\n",
            "Average using a while loop:  10.5\n"
          ],
          "name": "stdout"
        }
      ]
    },
    {
      "cell_type": "code",
      "metadata": {
        "id": "8d61FVI0g0kr",
        "colab_type": "code",
        "colab": {
          "base_uri": "https://localhost:8080/",
          "height": 136
        },
        "outputId": "e002c227-8df8-4505-8a82-42676f1b4390"
      },
      "source": [
        "# Q3: Accept list of 5 float numbers as input from user using loop and store values in a list.\n",
        "\n",
        "lst = [] \n",
        "n = int(input(\"Enter number of elements : \")) \n",
        "for i in range(0, n): \n",
        "    ele = float(input()) \n",
        "  \n",
        "    lst.append(ele) \n",
        "      \n",
        "print(lst) "
      ],
      "execution_count": 6,
      "outputs": [
        {
          "output_type": "stream",
          "text": [
            "Enter number of elements : 5\n",
            "2.5\n",
            "6.5\n",
            "99.8\n",
            "78.8\n",
            "44.4\n",
            "[2.5, 6.5, 99.8, 78.8, 44.4]\n"
          ],
          "name": "stdout"
        }
      ]
    },
    {
      "cell_type": "code",
      "metadata": {
        "id": "ZyJmd-NJku-W",
        "colab_type": "code",
        "colab": {
          "base_uri": "https://localhost:8080/",
          "height": 102
        },
        "outputId": "beb8cfde-57f5-4911-e4e1-58d066217644"
      },
      "source": [
        "\"\"\"Q4: print the following pattern\n",
        "   A) 1\n",
        "      1 2\n",
        "      1 2 3 \n",
        "      1 2 3 4\n",
        "      1 2 3 4 5\"\"\"\n",
        "\n",
        "\n",
        "\n",
        "rows = 5\n",
        "for row in range(1, rows+1):\n",
        "    for column in range(1, row + 1):\n",
        "        print(column, end=' ')\n",
        "    print(\"\")"
      ],
      "execution_count": 11,
      "outputs": [
        {
          "output_type": "stream",
          "text": [
            "1 \n",
            "1 2 \n",
            "1 2 3 \n",
            "1 2 3 4 \n",
            "1 2 3 4 5 \n"
          ],
          "name": "stdout"
        }
      ]
    },
    {
      "cell_type": "code",
      "metadata": {
        "id": "p81fjtprlE2P",
        "colab_type": "code",
        "colab": {
          "base_uri": "https://localhost:8080/",
          "height": 119
        },
        "outputId": "c324f457-7841-47db-8bf3-6a0e375105e8"
      },
      "source": [
        "\"\"\" Q4: \n",
        "   B) 5 4 3 2 1\n",
        "      4 3 2 1\n",
        "      3 2 1\n",
        "      2 1\n",
        "      1\"\"\"\n",
        "\n",
        "rows = 5\n",
        "for i in range(0, rows + 1):\n",
        "    for j in range(rows - i, 0, -1):\n",
        "        print(j, end=' ')\n",
        "    print()"
      ],
      "execution_count": 12,
      "outputs": [
        {
          "output_type": "stream",
          "text": [
            "5 4 3 2 1 \n",
            "4 3 2 1 \n",
            "3 2 1 \n",
            "2 1 \n",
            "1 \n",
            "\n"
          ],
          "name": "stdout"
        }
      ]
    },
    {
      "cell_type": "code",
      "metadata": {
        "id": "c-sA28lKlO9m",
        "colab_type": "code",
        "colab": {
          "base_uri": "https://localhost:8080/",
          "height": 68
        },
        "outputId": "b3e997ab-eb75-4813-cffe-0e4d2426b402"
      },
      "source": [
        "# Q5: Input a number,count and print the total number of digits in that number using while loop\n",
        "\n",
        "num=int(input(\"enter a number:\"))\n",
        "count=0\n",
        "while(num > 0):\n",
        "    num = num // 10\n",
        "    count = count + 1\n",
        "\n",
        "print(\"\\n Number of Digits in a Given Number = %d\" %count)"
      ],
      "execution_count": 13,
      "outputs": [
        {
          "output_type": "stream",
          "text": [
            "enter a number:9954785\n",
            "\n",
            " Number of Digits in a Given Number = 7\n"
          ],
          "name": "stdout"
        }
      ]
    },
    {
      "cell_type": "code",
      "metadata": {
        "id": "-25jo4KDlc5Q",
        "colab_type": "code",
        "colab": {
          "base_uri": "https://localhost:8080/",
          "height": 34
        },
        "outputId": "bee2a7a2-5e79-4e73-e0be-2a473d69dff5"
      },
      "source": [
        "# Q6: given two lists.create a third list by picking an odd index element from the first list and even index element from second\n",
        "\n",
        "\n",
        "listOne=[3,6,9,12,15,18,21]\n",
        "listTwo=[4,8,12,16,20,24,28]\n",
        "c=[]\n",
        "for i in range(1,len(listOne)+1):\n",
        "    if i%2==0:\n",
        "        c.append(listTwo[i-1])\n",
        "    else:\n",
        "        c.append(listOne[i-1])\n",
        "\n",
        "print(c)\n"
      ],
      "execution_count": 14,
      "outputs": [
        {
          "output_type": "stream",
          "text": [
            "[3, 8, 9, 16, 15, 24, 21]\n"
          ],
          "name": "stdout"
        }
      ]
    },
    {
      "cell_type": "code",
      "metadata": {
        "id": "LQ5N4VX6lnoo",
        "colab_type": "code",
        "colab": {
          "base_uri": "https://localhost:8080/",
          "height": 34
        },
        "outputId": "375b16f7-1870-428b-c578-a0573d465c07"
      },
      "source": [
        "# Q7: Program to get smallest number from a list\n",
        "\n",
        "list=[23,3,45,44,-1,0,76]\n",
        "small=list[0]\n",
        "for i in range(1,len(list)):\n",
        "    if list[i]<small:\n",
        "        small=list[i]\n",
        "print(small)"
      ],
      "execution_count": 15,
      "outputs": [
        {
          "output_type": "stream",
          "text": [
            "-1\n"
          ],
          "name": "stdout"
        }
      ]
    },
    {
      "cell_type": "code",
      "metadata": {
        "id": "yf6iWpWqlv_M",
        "colab_type": "code",
        "colab": {
          "base_uri": "https://localhost:8080/",
          "height": 34
        },
        "outputId": "93166529-2507-4b7f-9e36-3e79563684a8"
      },
      "source": [
        "# Q8:  Reverse the following list using for loop and range\n",
        "\n",
        "\n",
        "\n",
        "list1=[10,20,30,4,50]\n",
        "rev=[]\n",
        "for i in range(len(list1)-1,-1,-1):\n",
        "    rev.append(list1[i])\n",
        "print(rev)"
      ],
      "execution_count": 16,
      "outputs": [
        {
          "output_type": "stream",
          "text": [
            "[50, 4, 30, 20, 10]\n"
          ],
          "name": "stdout"
        }
      ]
    }
  ]
}